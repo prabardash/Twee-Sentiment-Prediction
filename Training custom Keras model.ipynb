{
 "cells": [
  {
   "cell_type": "markdown",
   "metadata": {},
   "source": [
    "## Data Loading\n",
    "\n",
    "The data from tfrecords will be loaded onto tf.data.dataset (which will prefetch data batches for training)."
   ]
  },
  {
   "cell_type": "code",
   "execution_count": 13,
   "metadata": {},
   "outputs": [],
   "source": [
    "import tensorflow as tf\n",
    "import numpy as np\n",
    "import os\n",
    "import pickle\n",
    "from tensorflow.keras.callbacks import ModelCheckpoint, EarlyStopping\n",
    "\n",
    "from tfrecord_io import dataset_from_batch\n",
    "\n",
    "import matplotlib.pyplot as plt\n",
    "import seaborn as sns"
   ]
  },
  {
   "cell_type": "code",
   "execution_count": 6,
   "metadata": {},
   "outputs": [],
   "source": [
    "files = os.listdir('dataset/')\n",
    "train_files = []\n",
    "val_files = []\n",
    "\n",
    "for idx,file in enumerate(files):\n",
    "  name = 'dataset/'+file\n",
    "  if(file[:5] == 'val_0'):\n",
    "    val_files.append(name)\n",
    "  elif(file[:7] == 'train_0'):\n",
    "    train_files.append(name)\n",
    "\n",
    "train_set = dataset_from_batch(train_files, n_readers = 8, batch_size = 64)\n",
    "val_set = dataset_from_batch(val_files, n_readers = 1, batch_size = 35)"
   ]
  },
  {
   "cell_type": "markdown",
   "metadata": {},
   "source": [
    "## Training a Keras Model"
   ]
  },
  {
   "cell_type": "code",
   "execution_count": 7,
   "metadata": {},
   "outputs": [],
   "source": [
    "with open('Tokenizer/tokenizer.pickle', 'rb') as handle:\n",
    "    tokenizer = pickle.load(handle)\n",
    "total_words = len(tokenizer.word_index)+1\n",
    "word_index = tokenizer.word_index\n",
    "embeddings_index = {}\n",
    "embedding_dim=100\n",
    "\n",
    "with open('./Embeddings/glove.6B.100d.txt', encoding = 'utf-8') as f:\n",
    "    for line in f:\n",
    "        values = line.split()\n",
    "        word = values[0]\n",
    "        coefs = np.asarray(values[1:], dtype='float32')\n",
    "        embeddings_index[word] = coefs\n",
    "\n",
    "embeddings_matrix = np.zeros((total_words, embedding_dim))\n",
    "for word, i in word_index.items():\n",
    "    embedding_vector = embeddings_index.get(word)\n",
    "    if embedding_vector is not None:\n",
    "        embeddings_matrix[i] = embedding_vector"
   ]
  },
  {
   "cell_type": "code",
   "execution_count": 8,
   "metadata": {},
   "outputs": [
    {
     "name": "stdout",
     "output_type": "stream",
     "text": [
      "Epoch 1/20\n",
      "429/429 [==============================] - ETA: 0s - loss: 0.9366 - accuracy: 0.5542\n",
      "Epoch 00001: val_accuracy improved from -inf to 0.65143, saving model to models\\LSTM_emb-v1.0_model.h5\n",
      "429/429 [==============================] - 69s 161ms/step - loss: 0.9366 - accuracy: 0.5542 - val_loss: 0.7766 - val_accuracy: 0.6514\n",
      "Epoch 2/20\n",
      "429/429 [==============================] - ETA: 0s - loss: 0.8072 - accuracy: 0.6462\n",
      "Epoch 00002: val_accuracy improved from 0.65143 to 0.69971, saving model to models\\LSTM_emb-v1.0_model.h5\n",
      "429/429 [==============================] - 74s 173ms/step - loss: 0.8072 - accuracy: 0.6462 - val_loss: 0.7153 - val_accuracy: 0.6997\n",
      "Epoch 3/20\n",
      "429/429 [==============================] - ETA: 0s - loss: 0.7652 - accuracy: 0.6717 ETA: 0s - loss: 0.7648 - accuracy\n",
      "Epoch 00003: val_accuracy improved from 0.69971 to 0.70457, saving model to models\\LSTM_emb-v1.0_model.h5\n",
      "429/429 [==============================] - 77s 180ms/step - loss: 0.7652 - accuracy: 0.6717 - val_loss: 0.7059 - val_accuracy: 0.7046\n",
      "Epoch 4/20\n",
      "429/429 [==============================] - ETA: 0s - loss: 0.7383 - accuracy: 0.6874\n",
      "Epoch 00004: val_accuracy improved from 0.70457 to 0.70571, saving model to models\\LSTM_emb-v1.0_model.h5\n",
      "429/429 [==============================] - 79s 184ms/step - loss: 0.7383 - accuracy: 0.6874 - val_loss: 0.6813 - val_accuracy: 0.7057\n",
      "Epoch 5/20\n",
      "429/429 [==============================] - ETA: 0s - loss: 0.7133 - accuracy: 0.7004 ETA: 2s - l\n",
      "Epoch 00005: val_accuracy improved from 0.70571 to 0.71543, saving model to models\\LSTM_emb-v1.0_model.h5\n",
      "429/429 [==============================] - 81s 189ms/step - loss: 0.7133 - accuracy: 0.7004 - val_loss: 0.6677 - val_accuracy: 0.7154\n",
      "Epoch 6/20\n",
      "429/429 [==============================] - ETA: 0s - loss: 0.6933 - accuracy: 0.7111\n",
      "Epoch 00006: val_accuracy improved from 0.71543 to 0.72171, saving model to models\\LSTM_emb-v1.0_model.h5\n",
      "429/429 [==============================] - 82s 190ms/step - loss: 0.6933 - accuracy: 0.7111 - val_loss: 0.6565 - val_accuracy: 0.7217\n",
      "Epoch 7/20\n",
      "429/429 [==============================] - ETA: 0s - loss: 0.6749 - accuracy: 0.7181\n",
      "Epoch 00007: val_accuracy improved from 0.72171 to 0.73000, saving model to models\\LSTM_emb-v1.0_model.h5\n",
      "429/429 [==============================] - 83s 193ms/step - loss: 0.6749 - accuracy: 0.7181 - val_loss: 0.6303 - val_accuracy: 0.7300\n",
      "Epoch 8/20\n",
      "429/429 [==============================] - ETA: 0s - loss: 0.6555 - accuracy: 0.7304\n",
      "Epoch 00008: val_accuracy did not improve from 0.73000\n",
      "429/429 [==============================] - 82s 191ms/step - loss: 0.6555 - accuracy: 0.7304 - val_loss: 0.6434 - val_accuracy: 0.7271\n",
      "Epoch 9/20\n",
      "429/429 [==============================] - ETA: 0s - loss: 0.6321 - accuracy: 0.7398\n",
      "Epoch 00009: val_accuracy improved from 0.73000 to 0.73857, saving model to models\\LSTM_emb-v1.0_model.h5\n",
      "429/429 [==============================] - 84s 196ms/step - loss: 0.6321 - accuracy: 0.7398 - val_loss: 0.6224 - val_accuracy: 0.7386\n",
      "Epoch 10/20\n",
      "429/429 [==============================] - ETA: 0s - loss: 0.6222 - accuracy: 0.7460\n",
      "Epoch 00010: val_accuracy did not improve from 0.73857\n",
      "429/429 [==============================] - 83s 194ms/step - loss: 0.6222 - accuracy: 0.7460 - val_loss: 0.6338 - val_accuracy: 0.7357\n",
      "Epoch 11/20\n",
      "429/429 [==============================] - ETA: 0s - loss: 0.6044 - accuracy: 0.7509\n",
      "Epoch 00011: val_accuracy improved from 0.73857 to 0.74657, saving model to models\\LSTM_emb-v1.0_model.h5\n",
      "429/429 [==============================] - 85s 198ms/step - loss: 0.6044 - accuracy: 0.7509 - val_loss: 0.6176 - val_accuracy: 0.7466\n",
      "Epoch 12/20\n",
      "429/429 [==============================] - ETA: 0s - loss: 0.5872 - accuracy: 0.7607\n",
      "Epoch 00012: val_accuracy did not improve from 0.74657\n",
      "429/429 [==============================] - 85s 198ms/step - loss: 0.5872 - accuracy: 0.7607 - val_loss: 0.6291 - val_accuracy: 0.7457\n",
      "Epoch 13/20\n",
      "429/429 [==============================] - ETA: 0s - loss: 0.5691 - accuracy: 0.7683\n",
      "Epoch 00013: val_accuracy improved from 0.74657 to 0.75114, saving model to models\\LSTM_emb-v1.0_model.h5\n",
      "429/429 [==============================] - 87s 204ms/step - loss: 0.5691 - accuracy: 0.7683 - val_loss: 0.6326 - val_accuracy: 0.7511\n",
      "Epoch 14/20\n",
      "429/429 [==============================] - ETA: 0s - loss: 0.5565 - accuracy: 0.7739\n",
      "Epoch 00014: val_accuracy did not improve from 0.75114\n",
      "429/429 [==============================] - 86s 200ms/step - loss: 0.5565 - accuracy: 0.7739 - val_loss: 0.6220 - val_accuracy: 0.7486\n",
      "Epoch 15/20\n",
      "429/429 [==============================] - ETA: 0s - loss: 0.5416 - accuracy: 0.7806\n",
      "Epoch 00015: val_accuracy did not improve from 0.75114\n",
      "429/429 [==============================] - 83s 193ms/step - loss: 0.5416 - accuracy: 0.7806 - val_loss: 0.6544 - val_accuracy: 0.7480\n",
      "Epoch 16/20\n",
      "429/429 [==============================] - ETA: 0s - loss: 0.5263 - accuracy: 0.7843\n",
      "Epoch 00016: val_accuracy did not improve from 0.75114\n",
      "429/429 [==============================] - 83s 193ms/step - loss: 0.5263 - accuracy: 0.7843 - val_loss: 0.6777 - val_accuracy: 0.7494\n",
      "Epoch 17/20\n",
      "429/429 [==============================] - ETA: 0s - loss: 0.5106 - accuracy: 0.7934\n",
      "Epoch 00017: val_accuracy did not improve from 0.75114\n",
      "429/429 [==============================] - 82s 192ms/step - loss: 0.5106 - accuracy: 0.7934 - val_loss: 0.6544 - val_accuracy: 0.7509\n",
      "Epoch 18/20\n",
      "429/429 [==============================] - ETA: 0s - loss: 0.4971 - accuracy: 0.8009\n",
      "Epoch 00018: val_accuracy improved from 0.75114 to 0.75429, saving model to models\\LSTM_emb-v1.0_model.h5\n",
      "429/429 [==============================] - 83s 193ms/step - loss: 0.4971 - accuracy: 0.8009 - val_loss: 0.6708 - val_accuracy: 0.7543\n",
      "Epoch 19/20\n",
      "429/429 [==============================] - ETA: 0s - loss: 0.4827 - accuracy: 0.8042\n",
      "Epoch 00019: val_accuracy did not improve from 0.75429\n",
      "429/429 [==============================] - 82s 192ms/step - loss: 0.4827 - accuracy: 0.8042 - val_loss: 0.6471 - val_accuracy: 0.7531\n",
      "Epoch 20/20\n",
      "429/429 [==============================] - ETA: 0s - loss: 0.4718 - accuracy: 0.8106\n",
      "Epoch 00020: val_accuracy did not improve from 0.75429\n",
      "429/429 [==============================] - 82s 192ms/step - loss: 0.4718 - accuracy: 0.8106 - val_loss: 0.6873 - val_accuracy: 0.7509\n"
     ]
    }
   ],
   "source": [
    "mc = ModelCheckpoint('models/LSTM_emb-v1.0_model.h5', monitor='val_accuracy', mode='max', verbose=1, save_best_only=True)\n",
    "es = EarlyStopping(monitor='val_loss', mode='min', patience=15)\n",
    "#embedding_dim = 128\n",
    "\n",
    "model = tf.keras.Sequential([\n",
    "    tf.keras.layers.Embedding(total_words, embedding_dim, input_length = 34, weights = [embeddings_matrix], trainable= False),\n",
    "    tf.keras.layers.Dropout(0.3),\n",
    "    tf.keras.layers.Bidirectional(tf.keras.layers.LSTM(128, return_sequences=True)),\n",
    "    tf.keras.layers.Dropout(0.3),\n",
    "    tf.keras.layers.Bidirectional(tf.keras.layers.LSTM(64)),\n",
    "    tf.keras.layers.Dropout(0.3),\n",
    "    tf.keras.layers.Dense(64, activation='relu'),\n",
    "    tf.keras.layers.Dropout(0.3),\n",
    "    tf.keras.layers.Dense(4, activation='softmax')\n",
    "])\n",
    "model.compile(loss='sparse_categorical_crossentropy', optimizer='adam', metrics=['accuracy'])\n",
    "num_epochs = 20\n",
    "history = model.fit(train_set, batch_size = 64, steps_per_epoch=429, epochs=num_epochs, \n",
    "                    validation_data=val_set, validation_batch_size = 35,\n",
    "                    validation_steps = 100, verbose=1, callbacks = [mc, es])"
   ]
  },
  {
   "cell_type": "code",
   "execution_count": 15,
   "metadata": {},
   "outputs": [
    {
     "data": {
      "image/png": "[encoded data removed]",
      "text/plain": [
       "<Figure size 1080x360 with 2 Axes>"
      ]
     },
     "metadata": {
      "needs_background": "light"
     },
     "output_type": "display_data"
    }
   ],
   "source": [
    "train_acc = history.history['accuracy']\n",
    "val_acc = history.history['val_accuracy']\n",
    "train_loss = history.history['loss']\n",
    "val_loss = history.history['val_loss']\n",
    "epochs = range(len(train_acc))\n",
    "\n",
    "plt.figure(figsize = (15, 5))\n",
    "\n",
    "ax = plt.subplot(1,2,1)\n",
    "plt.title('Train and Validation Accuracy')\n",
    "sns.lineplot(epochs, train_acc)\n",
    "sns.lineplot(epochs, val_acc)\n",
    "plt.legend([\"Train Accuracy\", \"Validation Accuracy\"])\n",
    "\n",
    "\n",
    "ax = plt.subplot(1,2,2)\n",
    "plt.title('Train and Validation Loss')\n",
    "sns.lineplot(epochs, train_loss)\n",
    "sns.lineplot(epochs, val_loss)\n",
    "plt.legend([\"Train Loss\", \"Validation Loss\"])\n",
    "plt.show()"
   ]
  },
  {
   "cell_type": "markdown",
   "metadata": {},
   "source": [
    "## Model Analysis"
   ]
  },
  {
   "cell_type": "code",
   "execution_count": 16,
   "metadata": {},
   "outputs": [],
   "source": [
    "from scikitplot.metrics import plot_confusion_matrix\n",
    "import matplotlib.pyplot as plt\n",
    "from tensorflow.keras.models import load_model\n",
    "\n",
    "model = load_model('models/LSTM-v1.0_model.h5')\n",
    "\n",
    "def enc_to_label(enc):\n",
    "    for key,val in enc_to_label.items():\n",
    "        if enc == val:\n",
    "            return key\n",
    "    return 'Error'\n",
    "\n",
    "with open('Tokenizer/label_tokenizer.pickle', 'rb') as handle:\n",
    "    label_tok = pickle.load(handle)\n",
    "test_data = np.load('dataset/test_data.npy', allow_pickle = True)\n",
    "test_labels = np.load('dataset/test_labels.npy')\n",
    "\n",
    "test_data = test_data[-250:]\n",
    "test_labels = test_labels[-250:]\n",
    "\n",
    "\n",
    "y_pred = np.argmax(model.predict(test_data), axis = 1).reshape(250,1)\n",
    "label_dict = {1:'neutral', 2:'positive', 3: 'negative'}\n",
    "y_pred = np.vectorize(label_dict.get)(y_pred)\n",
    "y_true = np.vectorize(label_dict.get)(test_labels)"
   ]
  },
  {
   "cell_type": "markdown",
   "metadata": {},
   "source": [
    "#### Confusion Matrix"
   ]
  },
  {
   "cell_type": "code",
   "execution_count": 18,
   "metadata": {},
   "outputs": [
    {
     "data": {
      "image/png": "[encoded data removed]",
      "text/plain": [
       "<Figure size 432x288 with 2 Axes>"
      ]
     },
     "metadata": {
      "needs_background": "light"
     },
     "output_type": "display_data"
    }
   ],
   "source": [
    "plot_confusion_matrix(y_true, y_pred)\n",
    "\n",
    "num_classes = 3\n",
    "plt.ylim(num_classes-0.5, -0.5)\n",
    "plt.xlim(-0.5, num_classes-0.5)\n",
    "plt.show()"
   ]
  },
  {
   "cell_type": "code",
   "execution_count": 19,
   "metadata": {},
   "outputs": [
    {
     "name": "stdout",
     "output_type": "stream",
     "text": [
      "Precision for neutral: 0.7162162162162162 \n",
      "Recall for neutral: 0.828125 \n",
      "F1 Score for neutral: 0.7681159420289855 \n",
      "\n",
      "\n",
      "Precision for positive: 0.69 \n",
      "Recall for positive: 0.6831683168316832 \n",
      "F1 Score for positive: 0.6865671641791044 \n",
      "\n",
      "\n",
      "Precision for negative: 0.8289473684210527 \n",
      "Recall for negative: 0.7411764705882353 \n",
      "F1 Score for negative: 0.782608695652174 \n",
      "\n",
      "\n"
     ]
    }
   ],
   "source": [
    "from sklearn.metrics import precision_recall_fscore_support\n",
    "\n",
    "precision,recall, f1score, support = precision_recall_fscore_support(y_true, y_pred)\n",
    "for i in range(num_classes):\n",
    "    print('Precision for {}: {} '.format(label_dict[i+1], precision[i]))\n",
    "    print('Recall for {}: {} '.format(label_dict[i+1], recall[i]))\n",
    "    print('F1 Score for {}: {} '.format(label_dict[i+1], f1score[i]))\n",
    "    print('\\n')"
   ]
  },
  {
   "cell_type": "markdown",
   "metadata": {},
   "source": [
    "## Model Inference"
   ]
  },
  {
   "cell_type": "code",
   "execution_count": 20,
   "metadata": {},
   "outputs": [
    {
     "name": "stdout",
     "output_type": "stream",
     "text": [
      "neutral\n"
     ]
    }
   ],
   "source": [
    "from tensorflow.keras.preprocessing.sequence import pad_sequences\n",
    "with open('Tokenizer/tokenizer.pickle', 'rb') as handle:\n",
    "    tok = pickle.load(handle)\n",
    "query = ['Travel only when its necessary']\n",
    "seq = tok.texts_to_sequences(query)\n",
    "pad_seq = np.array(pad_sequences(seq,maxlen=34,padding='post'))\n",
    "\n",
    "with open('Tokenizer/label_tokenizer.pickle', 'rb') as handle:\n",
    "    label_tok = pickle.load(handle)\n",
    "\n",
    "p=np.argmax(model.predict(pad_seq))\n",
    "\n",
    "for key, val in label_tok.word_index.items():\n",
    "    if p == val:\n",
    "        print(key)"
   ]
  },
  {
   "cell_type": "code",
   "execution_count": null,
   "metadata": {},
   "outputs": [],
   "source": []
  }
 ],
 "metadata": {
  "kernelspec": {
   "display_name": "Python 3",
   "language": "python",
   "name": "python3"
  },
  "language_info": {
   "codemirror_mode": {
    "name": "ipython",
    "version": 3
   },
   "file_extension": ".py",
   "mimetype": "text/x-python",
   "name": "python",
   "nbconvert_exporter": "python",
   "pygments_lexer": "ipython3",
   "version": "3.7.4"
  }
 },
 "nbformat": 4,
 "nbformat_minor": 4
}
